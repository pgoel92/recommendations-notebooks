{
 "cells": [
  {
   "cell_type": "code",
   "execution_count": 213,
   "metadata": {},
   "outputs": [],
   "source": [
    "import random\n",
    "import numpy as np\n",
    "rewards = [1, 2, 3, 4, 5]\n",
    "class Bandit:\n",
    "    def __init__(self, p, index):\n",
    "        self.p = p\n",
    "        self.index = index\n",
    "\n",
    "    def play(self):\n",
    "        sample = np.random.multinomial(1, self.p)\n",
    "        return np.argmax(sample)\n",
    "\n",
    "def naive(bandits, T):\n",
    "    total_reward = 0\n",
    "    bandit_plays = [0] * len(bandits)\n",
    "    for t in range(T):\n",
    "        b = np.random.choice(bandits)\n",
    "        total_reward += rewards[b.play()]\n",
    "        bandit_plays[b.index] += 1\n",
    "\n",
    "    return total_reward / T, bandit_plays"
   ]
  },
  {
   "cell_type": "code",
   "execution_count": 214,
   "metadata": {},
   "outputs": [],
   "source": [
    "b1 = Bandit([1/6, 1/3, 1/6, 2/9, 1/9], 0)\n",
    "b2 = Bandit([2/9, 1/9, 1/3, 2/9, 1/9], 1)\n",
    "b3 = Bandit([1/6, 1/6, 1/6, 1/6, 1/3], 2)"
   ]
  },
  {
   "cell_type": "code",
   "execution_count": 215,
   "metadata": {},
   "outputs": [
    {
     "data": {
      "text/plain": [
       "(2.999, [335, 335, 330])"
      ]
     },
     "execution_count": 215,
     "metadata": {},
     "output_type": "execute_result"
    }
   ],
   "source": [
    "naive([b1, b2, b3], 1000)"
   ]
  },
  {
   "cell_type": "code",
   "execution_count": 216,
   "metadata": {},
   "outputs": [],
   "source": [
    "def egreedy(bandits, T, e=0.1):\n",
    "    total_reward = 0\n",
    "    bandit_rewards = [0] * len(bandits)\n",
    "    bandit_plays = [0] * len(bandits)\n",
    "    for t in range(T):\n",
    "        avg_rewards = [x / y if y else 0 for x, y in zip(bandit_rewards, bandit_plays)]\n",
    "        max_reward_bandit = np.argmax(avg_rewards)\n",
    "        probs = [e / (len(bandits) - 1)] * len(bandits)\n",
    "        probs[max_reward_bandit] = 1 - e\n",
    "        assert sum(probs) == 1\n",
    "        bandit = np.random.choice(bandits, p=probs)\n",
    "        reward = rewards[bandit.play()]\n",
    "        total_reward += reward\n",
    "        bandit_rewards[bandit.index] += reward\n",
    "        bandit_plays[bandit.index] += 1\n",
    "\n",
    "    return total_reward / T, bandit_plays"
   ]
  },
  {
   "cell_type": "code",
   "execution_count": 223,
   "metadata": {},
   "outputs": [
    {
     "data": {
      "text/plain": [
       "(3.28786, [2508, 2431, 45061])"
      ]
     },
     "execution_count": 223,
     "metadata": {},
     "output_type": "execute_result"
    }
   ],
   "source": [
    "egreedy([b1, b2, b3], 50000)"
   ]
  },
  {
   "cell_type": "code",
   "execution_count": 218,
   "metadata": {},
   "outputs": [],
   "source": [
    "def thompson_sampling(bandits, T):\n",
    "    total_reward = 0\n",
    "    bandit_priors = [[1] * 5 for _ in range(len(bandits))]\n",
    "    bandit_plays = [0] * len(bandits)\n",
    "    for t in range(T):\n",
    "        sampled_rewards = [rewards[np.argmax(np.random.dirichlet(bandit_priors[j]))] for j in range(len(bandits))]\n",
    "        max_sample_reward_bandit = np.argmax(sampled_rewards)\n",
    "        bandit = bandits[max_sample_reward_bandit]\n",
    "        reward_index = bandit.play()\n",
    "        total_reward += rewards[reward_index]\n",
    "        bandit_plays[bandit.index] += 1\n",
    "        bandit_priors[bandit.index][reward_index] += 1\n",
    "\n",
    "    return total_reward / T, bandit_plays"
   ]
  },
  {
   "cell_type": "code",
   "execution_count": 219,
   "metadata": {},
   "outputs": [
    {
     "data": {
      "text/plain": [
       "array([0.24933773, 0.4235967 , 0.03994664, 0.14829385, 0.13882507])"
      ]
     },
     "execution_count": 219,
     "metadata": {},
     "output_type": "execute_result"
    }
   ],
   "source": [
    "np.random.dirichlet([1, 1, 1, 1, 1])"
   ]
  },
  {
   "cell_type": "code",
   "execution_count": 224,
   "metadata": {},
   "outputs": [
    {
     "data": {
      "text/plain": [
       "(3.32982, [70, 80, 49850])"
      ]
     },
     "execution_count": 224,
     "metadata": {},
     "output_type": "execute_result"
    }
   ],
   "source": [
    "thompson_sampling([b1, b2, b3], 50000)"
   ]
  }
 ],
 "metadata": {
  "kernelspec": {
   "display_name": "Python 3",
   "language": "python",
   "name": "python3"
  },
  "language_info": {
   "codemirror_mode": {
    "name": "ipython",
    "version": 3
   },
   "file_extension": ".py",
   "mimetype": "text/x-python",
   "name": "python",
   "nbconvert_exporter": "python",
   "pygments_lexer": "ipython3",
   "version": "3.7.5"
  }
 },
 "nbformat": 4,
 "nbformat_minor": 2
}
